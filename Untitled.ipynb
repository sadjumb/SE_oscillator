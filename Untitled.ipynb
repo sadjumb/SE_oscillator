{
 "cells": [
  {
   "cell_type": "code",
   "execution_count": 3,
   "id": "3171cb34",
   "metadata": {},
   "outputs": [],
   "source": [
    "import numpy as np\n",
    "import scipy.integrate as integrate"
   ]
  },
  {
   "cell_type": "code",
   "execution_count": 5,
   "id": "b149c0fe",
   "metadata": {},
   "outputs": [],
   "source": [
    "def pendula(A, B, D):\n",
    "    def rhs(t, X):\n",
    "        y1, y2, k1, k2,= X\n",
    "        return (k1, k2, (D*y2 - y1)/(A - D**2), -(D*(D*y2 - y1)/(A - D**2) + y2)/B)\n",
    "    return rhs"
   ]
  },
  {
   "cell_type": "code",
   "execution_count": 8,
   "id": "cfdf070f",
   "metadata": {},
   "outputs": [
    {
     "name": "stderr",
     "output_type": "stream",
     "text": [
      "/tmp/ipykernel_1356/704442112.py:4: RuntimeWarning: invalid value encountered in double_scalars\n",
      "  return (k1, k2, (D*y2 - y1)/(A - D**2), -(D*(D*y2 - y1)/(A - D**2) + y2)/B)\n"
     ]
    },
    {
     "ename": "AttributeError",
     "evalue": "module 'scipy.integrate' has no attribute 'solve_ode'",
     "output_type": "error",
     "traceback": [
      "\u001b[0;31m---------------------------------------------------------------------------\u001b[0m",
      "\u001b[0;31mAttributeError\u001b[0m                            Traceback (most recent call last)",
      "Cell \u001b[0;32mIn [8], line 3\u001b[0m\n\u001b[1;32m      1\u001b[0m f \u001b[38;5;241m=\u001b[39m pendula(\u001b[38;5;241m1\u001b[39m,\u001b[38;5;241m1\u001b[39m,\u001b[38;5;241m1\u001b[39m)\n\u001b[1;32m      2\u001b[0m integrate\u001b[38;5;241m.\u001b[39mRK45(f, \u001b[38;5;241m0\u001b[39m, (\u001b[38;5;241m1\u001b[39m,\u001b[38;5;241m1\u001b[39m,\u001b[38;5;241m1\u001b[39m,\u001b[38;5;241m1\u001b[39m), \u001b[38;5;241m5\u001b[39m)\n\u001b[0;32m----> 3\u001b[0m \u001b[43mintegrate\u001b[49m\u001b[38;5;241;43m.\u001b[39;49m\u001b[43msolve_ode\u001b[49m(f, (\u001b[38;5;241m0\u001b[39m, \u001b[38;5;241m5\u001b[39m), (\u001b[38;5;241m1\u001b[39m,\u001b[38;5;241m1\u001b[39m,\u001b[38;5;241m1\u001b[39m,\u001b[38;5;241m1\u001b[39m), \u001b[38;5;124m\"\u001b[39m\u001b[38;5;124mRK45\u001b[39m\u001b[38;5;124m\"\u001b[39m)\n",
      "\u001b[0;31mAttributeError\u001b[0m: module 'scipy.integrate' has no attribute 'solve_ode'"
     ]
    }
   ],
   "source": [
    "f = pendula(1,1,1)\n",
    "integrate.RK45(f, 0, (1,1,1,1), 5)\n",
    "integrate.solve_ode(f, (0, 5), (1,1,1,1), \"RK45\")"
   ]
  },
  {
   "cell_type": "code",
   "execution_count": 9,
   "id": "82c1c20b",
   "metadata": {},
   "outputs": [],
   "source": [
    "def A(C1, C2, L1, L2, L):\n",
    "    return C1*(L + L1)\n",
    "def B(C1, C2, L1, L2, L):\n",
    "    return C2*(L + L2)\n",
    "def D(C1, C2, L1, L2, L):\n",
    "    return L*(C1*C2)**(1/2)"
   ]
  },
  {
   "cell_type": "code",
   "execution_count": null,
   "id": "1f9f421b",
   "metadata": {},
   "outputs": [],
   "source": []
  }
 ],
 "metadata": {
  "kernelspec": {
   "display_name": "Python 3 (ipykernel)",
   "language": "python",
   "name": "python3"
  },
  "language_info": {
   "codemirror_mode": {
    "name": "ipython",
    "version": 3
   },
   "file_extension": ".py",
   "mimetype": "text/x-python",
   "name": "python",
   "nbconvert_exporter": "python",
   "pygments_lexer": "ipython3",
   "version": "3.8.10"
  }
 },
 "nbformat": 4,
 "nbformat_minor": 5
}
